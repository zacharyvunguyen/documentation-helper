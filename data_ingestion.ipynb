{
 "cells": [
  {
   "cell_type": "code",
   "id": "initial_id",
   "metadata": {
    "collapsed": true,
    "ExecuteTime": {
     "end_time": "2024-09-13T15:16:03.569381Z",
     "start_time": "2024-09-13T15:16:03.565202Z"
    }
   },
   "source": [
    "import os\n",
    "import logging\n",
    "from dotenv import load_dotenv\n",
    "from pinecone import Pinecone\n",
    "from langchain.text_splitter import RecursiveCharacterTextSplitter\n",
    "from langchain_community.document_loaders import ReadTheDocsLoader\n",
    "from langchain_openai import OpenAIEmbeddings\n",
    "from langchain_pinecone import PineconeVectorStore"
   ],
   "outputs": [],
   "execution_count": 13
  },
  {
   "metadata": {
    "ExecuteTime": {
     "end_time": "2024-09-13T15:16:04.656741Z",
     "start_time": "2024-09-13T15:16:04.650476Z"
    }
   },
   "cell_type": "code",
   "source": [
    "# Load environment variables from .env file\n",
    "load_dotenv()"
   ],
   "id": "9b99707f1ffaa61f",
   "outputs": [
    {
     "data": {
      "text/plain": [
       "True"
      ]
     },
     "execution_count": 14,
     "metadata": {},
     "output_type": "execute_result"
    }
   ],
   "execution_count": 14
  },
  {
   "metadata": {
    "ExecuteTime": {
     "end_time": "2024-09-13T15:16:06.053430Z",
     "start_time": "2024-09-13T15:16:06.050302Z"
    }
   },
   "cell_type": "code",
   "source": [
    "# Configure logging\n",
    "logging.basicConfig(level=logging.INFO, format='%(asctime)s - %(levelname)s - %(message)s')\n"
   ],
   "id": "8f97ed853b0799",
   "outputs": [],
   "execution_count": 15
  },
  {
   "metadata": {
    "ExecuteTime": {
     "end_time": "2024-09-13T15:16:13.067817Z",
     "start_time": "2024-09-13T15:16:13.064843Z"
    }
   },
   "cell_type": "code",
   "source": [
    "OPENAI_API_KEY = os.getenv(\"OPENAI_API_KEY\")\n",
    "PINECONE_API_KEY = os.getenv(\"PINECONE_API_KEY\")\n",
    "PINECONE_INDEX_NAME = os.getenv(\"PINECONE_INDEX_NAME\")"
   ],
   "id": "4bab213dd986aade",
   "outputs": [],
   "execution_count": 18
  },
  {
   "metadata": {
    "ExecuteTime": {
     "end_time": "2024-09-13T15:16:17.739144Z",
     "start_time": "2024-09-13T15:16:17.735112Z"
    }
   },
   "cell_type": "code",
   "source": [
    "def initialize_pinecone():\n",
    "    try:\n",
    "        pc = Pinecone(api_key=PINECONE_API_KEY)\n",
    "        logging.info(\"Pinecone initialized successfully.\")\n",
    "        return pc\n",
    "    except Exception as e:\n",
    "        logging.error(f\"Failed to initialize Pinecone: {e}\")\n",
    "        raise"
   ],
   "id": "6fd23c4150264133",
   "outputs": [],
   "execution_count": 19
  },
  {
   "metadata": {
    "ExecuteTime": {
     "end_time": "2024-09-13T15:16:19.395648Z",
     "start_time": "2024-09-13T15:16:19.390692Z"
    }
   },
   "cell_type": "code",
   "source": "initialize_pinecone()",
   "id": "ffc5e731abe44fe1",
   "outputs": [
    {
     "name": "stderr",
     "output_type": "stream",
     "text": [
      "2024-09-13 10:16:19,392 - INFO - Pinecone initialized successfully.\n"
     ]
    },
    {
     "data": {
      "text/plain": [
       "<pinecone.control.pinecone.Pinecone at 0x110810290>"
      ]
     },
     "execution_count": 20,
     "metadata": {},
     "output_type": "execute_result"
    }
   ],
   "execution_count": 20
  },
  {
   "metadata": {},
   "cell_type": "code",
   "outputs": [],
   "execution_count": null,
   "source": "",
   "id": "15768bbccb9e0e4b"
  }
 ],
 "metadata": {
  "kernelspec": {
   "display_name": "Python 3",
   "language": "python",
   "name": "python3"
  },
  "language_info": {
   "codemirror_mode": {
    "name": "ipython",
    "version": 2
   },
   "file_extension": ".py",
   "mimetype": "text/x-python",
   "name": "python",
   "nbconvert_exporter": "python",
   "pygments_lexer": "ipython2",
   "version": "2.7.6"
  }
 },
 "nbformat": 4,
 "nbformat_minor": 5
}
